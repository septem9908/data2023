{
 "cells": [
  {
   "cell_type": "code",
   "execution_count": 1,
   "id": "bd4e82bf-a655-48cb-9120-d3f3f727f6d4",
   "metadata": {},
   "outputs": [],
   "source": [
    "import ibis"
   ]
  },
  {
   "cell_type": "code",
   "execution_count": 2,
   "id": "6e4eae0a-529c-46d2-9d46-5eee25ceb687",
   "metadata": {},
   "outputs": [],
   "source": [
    "ibis.options.interactive = True"
   ]
  },
  {
   "cell_type": "code",
   "execution_count": 3,
   "id": "01b8ae3e-8367-4fd9-beb8-7c99abbad0fb",
   "metadata": {},
   "outputs": [],
   "source": [
    "!curl -LsS -o geography.db 'https://storage.googleapis.com/ibis-tutorial-data/geography.db'"
   ]
  },
  {
   "cell_type": "code",
   "execution_count": 4,
   "id": "50940532-5b88-4151-b424-b7527a68950e",
   "metadata": {},
   "outputs": [],
   "source": [
    "import os\n",
    "import tempfile\n",
    "\n",
    "connection = ibis.sqlite.connect(\"geography.db\")"
   ]
  },
  {
   "attachments": {},
   "cell_type": "markdown",
   "id": "4290b314-0bbf-42e1-ba00-37823f13c29c",
   "metadata": {},
   "source": [
    "# Exploring the data"
   ]
  },
  {
   "cell_type": "code",
   "execution_count": 5,
   "id": "11301d22-0db8-42c1-98da-44f58bad84c1",
   "metadata": {},
   "outputs": [
    {
     "data": {
      "text/plain": [
       "['countries', 'gdp', 'independence']"
      ]
     },
     "execution_count": 5,
     "metadata": {},
     "output_type": "execute_result"
    }
   ],
   "source": [
    "connection.list_tables()"
   ]
  },
  {
   "cell_type": "code",
   "execution_count": 6,
   "id": "409dd9fe-65a9-4e02-8e7e-9fd3e3315cc9",
   "metadata": {},
   "outputs": [],
   "source": [
    "countries = connection.table(\"countries\")"
   ]
  },
  {
   "cell_type": "code",
   "execution_count": 7,
   "id": "255816d3-e9a0-4b64-a4d3-6c2a361378fb",
   "metadata": {},
   "outputs": [
    {
     "data": {
      "text/plain": [
       "['iso_alpha2',\n",
       " 'iso_alpha3',\n",
       " 'iso_numeric',\n",
       " 'fips',\n",
       " 'name',\n",
       " 'capital',\n",
       " 'area_km2',\n",
       " 'population',\n",
       " 'continent']"
      ]
     },
     "execution_count": 7,
     "metadata": {},
     "output_type": "execute_result"
    }
   ],
   "source": [
    "countries.columns"
   ]
  },
  {
   "cell_type": "code",
   "execution_count": 8,
   "id": "9c81bbb2-7ed5-4d8c-b15f-2b6dc807caa0",
   "metadata": {},
   "outputs": [
    {
     "data": {
      "text/html": [
       "<pre style=\"white-space:pre;overflow-x:auto;line-height:normal;font-family:Menlo,'DejaVu Sans Mono',consolas,'Courier New',monospace\">┏━━━━━━━━━━━━━━━━━━━━━━┳━━━━━━━━━━━┳━━━━━━━━━━━━┓\n",
       "┃<span style=\"font-weight: bold\"> name                 </span>┃<span style=\"font-weight: bold\"> continent </span>┃<span style=\"font-weight: bold\"> population </span>┃\n",
       "┡━━━━━━━━━━━━━━━━━━━━━━╇━━━━━━━━━━━╇━━━━━━━━━━━━┩\n",
       "│ <span style=\"color: #000080; text-decoration-color: #000080; font-weight: bold\">string</span>               │ <span style=\"color: #000080; text-decoration-color: #000080; font-weight: bold\">string</span>    │ <span style=\"color: #000080; text-decoration-color: #000080; font-weight: bold\">int32</span>      │\n",
       "├──────────────────────┼───────────┼────────────┤\n",
       "│ Andorra              │ EU        │      <span style=\"color: #008080; text-decoration-color: #008080; font-weight: bold\">84000</span> │\n",
       "│ United Arab Emirates │ AS        │    <span style=\"color: #008080; text-decoration-color: #008080; font-weight: bold\">4975593</span> │\n",
       "│ Afghanistan          │ AS        │   <span style=\"color: #008080; text-decoration-color: #008080; font-weight: bold\">29121286</span> │\n",
       "│ Antigua and Barbuda  │ NA        │      <span style=\"color: #008080; text-decoration-color: #008080; font-weight: bold\">86754</span> │\n",
       "│ Anguilla             │ NA        │      <span style=\"color: #008080; text-decoration-color: #008080; font-weight: bold\">13254</span> │\n",
       "│ Albania              │ EU        │    <span style=\"color: #008080; text-decoration-color: #008080; font-weight: bold\">2986952</span> │\n",
       "│ Armenia              │ AS        │    <span style=\"color: #008080; text-decoration-color: #008080; font-weight: bold\">2968000</span> │\n",
       "│ Netherlands Antilles │ NA        │     <span style=\"color: #008080; text-decoration-color: #008080; font-weight: bold\">300000</span> │\n",
       "│ Angola               │ AF        │   <span style=\"color: #008080; text-decoration-color: #008080; font-weight: bold\">13068161</span> │\n",
       "│ Antarctica           │ AN        │          <span style=\"color: #008080; text-decoration-color: #008080; font-weight: bold\">0</span> │\n",
       "│ <span style=\"color: #7f7f7f; text-decoration-color: #7f7f7f\">…</span>                    │ <span style=\"color: #7f7f7f; text-decoration-color: #7f7f7f\">…</span>         │          <span style=\"color: #7f7f7f; text-decoration-color: #7f7f7f\">…</span> │\n",
       "└──────────────────────┴───────────┴────────────┘\n",
       "</pre>\n"
      ],
      "text/plain": [
       "┏━━━━━━━━━━━━━━━━━━━━━━┳━━━━━━━━━━━┳━━━━━━━━━━━━┓\n",
       "┃\u001b[1m \u001b[0m\u001b[1mname\u001b[0m\u001b[1m                \u001b[0m\u001b[1m \u001b[0m┃\u001b[1m \u001b[0m\u001b[1mcontinent\u001b[0m\u001b[1m \u001b[0m┃\u001b[1m \u001b[0m\u001b[1mpopulation\u001b[0m\u001b[1m \u001b[0m┃\n",
       "┡━━━━━━━━━━━━━━━━━━━━━━╇━━━━━━━━━━━╇━━━━━━━━━━━━┩\n",
       "│ \u001b[1;34mstring\u001b[0m               │ \u001b[1;34mstring\u001b[0m    │ \u001b[1;34mint32\u001b[0m      │\n",
       "├──────────────────────┼───────────┼────────────┤\n",
       "│ Andorra              │ EU        │      \u001b[1;36m84000\u001b[0m │\n",
       "│ United Arab Emirates │ AS        │    \u001b[1;36m4975593\u001b[0m │\n",
       "│ Afghanistan          │ AS        │   \u001b[1;36m29121286\u001b[0m │\n",
       "│ Antigua and Barbuda  │ NA        │      \u001b[1;36m86754\u001b[0m │\n",
       "│ Anguilla             │ NA        │      \u001b[1;36m13254\u001b[0m │\n",
       "│ Albania              │ EU        │    \u001b[1;36m2986952\u001b[0m │\n",
       "│ Armenia              │ AS        │    \u001b[1;36m2968000\u001b[0m │\n",
       "│ Netherlands Antilles │ NA        │     \u001b[1;36m300000\u001b[0m │\n",
       "│ Angola               │ AF        │   \u001b[1;36m13068161\u001b[0m │\n",
       "│ Antarctica           │ AN        │          \u001b[1;36m0\u001b[0m │\n",
       "│ \u001b[2m…\u001b[0m                    │ \u001b[2m…\u001b[0m         │          \u001b[2m…\u001b[0m │\n",
       "└──────────────────────┴───────────┴────────────┘\n"
      ]
     },
     "execution_count": 8,
     "metadata": {},
     "output_type": "execute_result"
    }
   ],
   "source": [
    "countries[\"name\", \"continent\", \"population\"]"
   ]
  },
  {
   "cell_type": "code",
   "execution_count": 9,
   "id": "019e208c-b435-4550-be46-f70ee2df6ed9",
   "metadata": {},
   "outputs": [
    {
     "data": {
      "text/html": [
       "<pre style=\"white-space:pre;overflow-x:auto;line-height:normal;font-family:Menlo,'DejaVu Sans Mono',consolas,'Courier New',monospace\"></pre>\n"
      ],
      "text/plain": []
     },
     "metadata": {},
     "output_type": "display_data"
    },
    {
     "data": {
      "text/plain": [
       "\u001b[1;36m252\u001b[0m"
      ]
     },
     "execution_count": 9,
     "metadata": {},
     "output_type": "execute_result"
    }
   ],
   "source": [
    "countries.count()"
   ]
  },
  {
   "cell_type": "code",
   "execution_count": 10,
   "id": "96ca5903-f325-4c20-9a34-d3d608253360",
   "metadata": {},
   "outputs": [
    {
     "data": {
      "text/html": [
       "<pre style=\"white-space:pre;overflow-x:auto;line-height:normal;font-family:Menlo,'DejaVu Sans Mono',consolas,'Courier New',monospace\">┏━━━━━━━━━━━━━━━━━━━━━━┳━━━━━━━━━━━┳━━━━━━━━━━━━┓\n",
       "┃<span style=\"font-weight: bold\"> name                 </span>┃<span style=\"font-weight: bold\"> continent </span>┃<span style=\"font-weight: bold\"> population </span>┃\n",
       "┡━━━━━━━━━━━━━━━━━━━━━━╇━━━━━━━━━━━╇━━━━━━━━━━━━┩\n",
       "│ <span style=\"color: #000080; text-decoration-color: #000080; font-weight: bold\">string</span>               │ <span style=\"color: #000080; text-decoration-color: #000080; font-weight: bold\">string</span>    │ <span style=\"color: #000080; text-decoration-color: #000080; font-weight: bold\">int32</span>      │\n",
       "├──────────────────────┼───────────┼────────────┤\n",
       "│ Andorra              │ EU        │      <span style=\"color: #008080; text-decoration-color: #008080; font-weight: bold\">84000</span> │\n",
       "│ United Arab Emirates │ AS        │    <span style=\"color: #008080; text-decoration-color: #008080; font-weight: bold\">4975593</span> │\n",
       "│ Afghanistan          │ AS        │   <span style=\"color: #008080; text-decoration-color: #008080; font-weight: bold\">29121286</span> │\n",
       "└──────────────────────┴───────────┴────────────┘\n",
       "</pre>\n"
      ],
      "text/plain": [
       "┏━━━━━━━━━━━━━━━━━━━━━━┳━━━━━━━━━━━┳━━━━━━━━━━━━┓\n",
       "┃\u001b[1m \u001b[0m\u001b[1mname\u001b[0m\u001b[1m                \u001b[0m\u001b[1m \u001b[0m┃\u001b[1m \u001b[0m\u001b[1mcontinent\u001b[0m\u001b[1m \u001b[0m┃\u001b[1m \u001b[0m\u001b[1mpopulation\u001b[0m\u001b[1m \u001b[0m┃\n",
       "┡━━━━━━━━━━━━━━━━━━━━━━╇━━━━━━━━━━━╇━━━━━━━━━━━━┩\n",
       "│ \u001b[1;34mstring\u001b[0m               │ \u001b[1;34mstring\u001b[0m    │ \u001b[1;34mint32\u001b[0m      │\n",
       "├──────────────────────┼───────────┼────────────┤\n",
       "│ Andorra              │ EU        │      \u001b[1;36m84000\u001b[0m │\n",
       "│ United Arab Emirates │ AS        │    \u001b[1;36m4975593\u001b[0m │\n",
       "│ Afghanistan          │ AS        │   \u001b[1;36m29121286\u001b[0m │\n",
       "└──────────────────────┴───────────┴────────────┘\n"
      ]
     },
     "execution_count": 10,
     "metadata": {},
     "output_type": "execute_result"
    }
   ],
   "source": [
    "countries[\"name\", \"continent\", \"population\"].limit(3)"
   ]
  },
  {
   "attachments": {},
   "cell_type": "markdown",
   "id": "74263a58-ccd4-4f78-af4d-88f65519168f",
   "metadata": {},
   "source": [
    "# Filters and order"
   ]
  },
  {
   "cell_type": "code",
   "execution_count": 11,
   "id": "e584590d-4686-4eca-9794-f41bd1441f28",
   "metadata": {},
   "outputs": [
    {
     "data": {
      "text/html": [
       "<pre style=\"white-space:pre;overflow-x:auto;line-height:normal;font-family:Menlo,'DejaVu Sans Mono',consolas,'Courier New',monospace\">┏━━━━━━━━━━━┓\n",
       "┃<span style=\"font-weight: bold\"> continent </span>┃\n",
       "┡━━━━━━━━━━━┩\n",
       "│ <span style=\"color: #000080; text-decoration-color: #000080; font-weight: bold\">string</span>    │\n",
       "├───────────┤\n",
       "│ EU        │\n",
       "│ AS        │\n",
       "│ NA        │\n",
       "│ AF        │\n",
       "│ AN        │\n",
       "│ SA        │\n",
       "│ OC        │\n",
       "└───────────┘\n",
       "</pre>\n"
      ],
      "text/plain": [
       "┏━━━━━━━━━━━┓\n",
       "┃\u001b[1m \u001b[0m\u001b[1mcontinent\u001b[0m\u001b[1m \u001b[0m┃\n",
       "┡━━━━━━━━━━━┩\n",
       "│ \u001b[1;34mstring\u001b[0m    │\n",
       "├───────────┤\n",
       "│ EU        │\n",
       "│ AS        │\n",
       "│ NA        │\n",
       "│ AF        │\n",
       "│ AN        │\n",
       "│ SA        │\n",
       "│ OC        │\n",
       "└───────────┘\n"
      ]
     },
     "execution_count": 11,
     "metadata": {},
     "output_type": "execute_result"
    }
   ],
   "source": [
    "countries[[\"continent\"]].distinct()"
   ]
  },
  {
   "cell_type": "code",
   "execution_count": 12,
   "id": "50614277-58ea-40bd-a4b1-3922a2fb8185",
   "metadata": {},
   "outputs": [],
   "source": [
    "import pandas as pd"
   ]
  },
  {
   "cell_type": "code",
   "execution_count": 13,
   "id": "ff907bba-ebfa-408e-aba3-6e0f1f01e139",
   "metadata": {},
   "outputs": [
    {
     "name": "stdout",
     "output_type": "stream",
     "text": [
      "# packages in environment at /Users/septem9907/opt/miniconda3:\n",
      "#\n",
      "# Name                    Version                   Build  Channel\n",
      "anyio                     3.5.0            py39hecd8cb5_0  \n",
      "appnope                   0.1.2           py39hecd8cb5_1001  \n",
      "argon2-cffi               21.3.0             pyhd3eb1b0_0  \n",
      "argon2-cffi-bindings      21.2.0           py39hca72f7f_0  \n",
      "asttokens                 2.0.5              pyhd3eb1b0_0  \n",
      "attrs                     22.1.0           py39hecd8cb5_0  \n",
      "backcall                  0.2.0              pyhd3eb1b0_0  \n",
      "backports-entry-points-selectable 1.1.0                    pypi_0    pypi\n",
      "beautifulsoup4            4.12.0           py39hecd8cb5_0  \n",
      "blas                      1.0                         mkl  \n",
      "bleach                    4.1.0              pyhd3eb1b0_0  \n",
      "boltons                   23.0.0           py39hecd8cb5_0  \n",
      "brotlipy                  0.7.0           py39h9ed2024_1003  \n",
      "ca-certificates           2023.01.10           hecd8cb5_0  \n",
      "certifi                   2022.12.7        py39hecd8cb5_0  \n",
      "cffi                      1.15.1           py39hc55c11b_0  \n",
      "charset-normalizer        2.0.4              pyhd3eb1b0_0  \n",
      "comm                      0.1.2            py39hecd8cb5_0  \n",
      "conda                     23.3.1           py39hecd8cb5_0  \n",
      "conda-package-handling    2.0.2            py39hecd8cb5_0  \n",
      "conda-package-streaming   0.7.0            py39hecd8cb5_0  \n",
      "cryptography              39.0.1           py39hf6deb26_0  \n",
      "debugpy                   1.5.1            py39he9d5cce_0  \n",
      "decorator                 5.1.1              pyhd3eb1b0_0  \n",
      "defusedxml                0.7.1              pyhd3eb1b0_0  \n",
      "distlib                   0.3.2                    pypi_0    pypi\n",
      "entrypoints               0.4              py39hecd8cb5_0  \n",
      "executing                 0.8.3              pyhd3eb1b0_0  \n",
      "filelock                  3.0.12                   pypi_0    pypi\n",
      "flit-core                 3.8.0            py39hecd8cb5_0  \n",
      "gettext                   0.21.0               he85b6c0_1  \n",
      "giflib                    5.2.1                h6c40b1e_3  \n",
      "glib                      2.69.1               h8346a28_1  \n",
      "gst-plugins-base          1.14.1               hcec6c5f_1  \n",
      "gstreamer                 1.14.1               h6c40b1e_1  \n",
      "icu                       58.2                 h0a44026_3  \n",
      "idna                      3.4              py39hecd8cb5_0  \n",
      "importlib-metadata        6.0.0            py39hecd8cb5_0  \n",
      "importlib_metadata        6.0.0                hd3eb1b0_0  \n",
      "intel-openmp              2021.4.0          hecd8cb5_3538  \n",
      "ipykernel                 6.19.2           py39h01d92e1_0  \n",
      "ipython                   8.12.0           py39hecd8cb5_0  \n",
      "ipython_genutils          0.2.0              pyhd3eb1b0_1  \n",
      "ipywidgets                8.0.4            py39hecd8cb5_0  \n",
      "jedi                      0.18.1           py39hecd8cb5_1  \n",
      "jinja2                    3.1.2            py39hecd8cb5_0  \n",
      "jpeg                      9e                   h6c40b1e_1  \n",
      "jsonpatch                 1.32               pyhd3eb1b0_0  \n",
      "jsonpointer               2.1                pyhd3eb1b0_0  \n",
      "jsonschema                4.17.3           py39hecd8cb5_0  \n",
      "jupyter                   1.0.0            py39hecd8cb5_7  \n",
      "jupyter_client            8.1.0            py39hecd8cb5_0  \n",
      "jupyter_console           6.6.3            py39hecd8cb5_0  \n",
      "jupyter_core              5.3.0            py39hecd8cb5_0  \n",
      "jupyter_server            1.23.4           py39hecd8cb5_0  \n",
      "jupyterlab_pygments       0.1.2                      py_0  \n",
      "jupyterlab_widgets        3.0.5            py39hecd8cb5_0  \n",
      "krb5                      1.19.4               hdba6334_0  \n",
      "lerc                      3.0                  he9d5cce_0  \n",
      "libclang                  14.0.6          default_hd95374b_1  \n",
      "libclang13                14.0.6          default_habbcc1a_1  \n",
      "libcxx                    14.0.6               h9765a3e_0  \n",
      "libdeflate                1.17                 hb664fd8_0  \n",
      "libedit                   3.1.20221030         h6c40b1e_0  \n",
      "libffi                    3.3                  hb1e8313_2  \n",
      "libiconv                  1.16                 hca72f7f_2  \n",
      "libllvm14                 14.0.6               he552d86_0  \n",
      "libpng                    1.6.39               h6c40b1e_0  \n",
      "libpq                     12.9                 h1c9f633_3  \n",
      "libsodium                 1.0.18               h1de35cc_0  \n",
      "libtiff                   4.5.0                hcec6c5f_2  \n",
      "libwebp                   1.2.4                hf6ce154_1  \n",
      "libwebp-base              1.2.4                h6c40b1e_1  \n",
      "libxml2                   2.10.3               h930c0e2_0  \n",
      "libxslt                   1.1.37               h6d1eb0e_0  \n",
      "llvm-openmp               14.0.6               h0dcd299_0  \n",
      "lxml                      4.9.2            py39h6c40b1e_0  \n",
      "lz4-c                     1.9.4                hcec6c5f_0  \n",
      "markupsafe                2.1.1            py39hca72f7f_0  \n",
      "matplotlib-inline         0.1.6            py39hecd8cb5_0  \n",
      "mistune                   0.8.4           py39h9ed2024_1000  \n",
      "mkl                       2021.4.0           hecd8cb5_637  \n",
      "mkl-service               2.4.0            py39h9ed2024_0  \n",
      "mkl_fft                   1.3.1            py39h4ab4a9b_0  \n",
      "mkl_random                1.2.2            py39hb2f4e1b_0  \n",
      "nbclassic                 0.5.4            py39hecd8cb5_0  \n",
      "nbclient                  0.5.13           py39hecd8cb5_0  \n",
      "nbconvert                 6.5.4            py39hecd8cb5_0  \n",
      "nbformat                  5.7.0            py39hecd8cb5_0  \n",
      "ncurses                   6.4                  hcec6c5f_0  \n",
      "nest-asyncio              1.5.6            py39hecd8cb5_0  \n",
      "notebook                  6.5.3            py39hecd8cb5_0  \n",
      "notebook-shim             0.2.2            py39hecd8cb5_0  \n",
      "nspr                      4.33                 he9d5cce_0  \n",
      "nss                       3.74                 h47edf6a_0  \n",
      "numpy                     1.20.3           py39h4b4dc7a_0  \n",
      "numpy-base                1.20.3           py39he0bd621_0  \n",
      "openssl                   1.1.1t               hca72f7f_0  \n",
      "packaging                 23.0             py39hecd8cb5_0  \n",
      "pandocfilters             1.5.0              pyhd3eb1b0_0  \n",
      "parso                     0.8.3              pyhd3eb1b0_0  \n",
      "pcre                      8.45                 h23ab428_0  \n",
      "pexpect                   4.8.0              pyhd3eb1b0_3  \n",
      "pickleshare               0.7.5           pyhd3eb1b0_1003  \n",
      "pip                       21.1.3                   pypi_0    pypi\n",
      "platformdirs              2.0.2                    pypi_0    pypi\n",
      "pluggy                    1.0.0            py39hecd8cb5_1  \n",
      "ply                       3.11             py39hecd8cb5_0  \n",
      "prometheus_client         0.14.1           py39hecd8cb5_0  \n",
      "prompt-toolkit            3.0.36           py39hecd8cb5_0  \n",
      "prompt_toolkit            3.0.36               hd3eb1b0_0  \n",
      "psutil                    5.9.0            py39hca72f7f_0  \n",
      "ptyprocess                0.7.0              pyhd3eb1b0_2  \n",
      "pure_eval                 0.2.2              pyhd3eb1b0_0  \n",
      "pycosat                   0.6.4            py39hca72f7f_0  \n",
      "pycparser                 2.21               pyhd3eb1b0_0  \n",
      "pygments                  2.11.2             pyhd3eb1b0_0  \n",
      "pyopenssl                 23.0.0           py39hecd8cb5_0  \n",
      "pyqt                      5.15.7           py39he9d5cce_0  \n",
      "pyqt5-sip                 12.11.0          py39he9d5cce_0  \n",
      "pyrsistent                0.18.0           py39hca72f7f_0  \n",
      "pysocks                   1.7.1            py39hecd8cb5_0  \n",
      "python                    3.9.1                h88f2d9e_2  \n",
      "python-dateutil           2.8.2              pyhd3eb1b0_0  \n",
      "python-fastjsonschema     2.16.2           py39hecd8cb5_0  \n",
      "python.app                3                py39h9ed2024_0  \n",
      "pyzmq                     23.2.0           py39he9d5cce_0  \n",
      "qt-main                   5.15.2               h51e0635_8  \n",
      "qt-webengine              5.15.9               h90a370e_4  \n",
      "qtconsole                 5.4.0            py39hecd8cb5_0  \n",
      "qtpy                      2.2.0            py39hecd8cb5_0  \n",
      "qtwebkit                  5.212                hbfab81c_5  \n",
      "readline                  8.2                  hca72f7f_0  \n",
      "requests                  2.28.1           py39hecd8cb5_1  \n",
      "ruamel.yaml               0.17.21          py39hca72f7f_0  \n",
      "ruamel.yaml.clib          0.2.6            py39hca72f7f_1  \n",
      "send2trash                1.8.0              pyhd3eb1b0_1  \n",
      "setuptools                65.6.3           py39hecd8cb5_0  \n",
      "sip                       6.6.2            py39he9d5cce_0  \n",
      "six                       1.16.0             pyhd3eb1b0_1  \n",
      "sniffio                   1.2.0            py39hecd8cb5_1  \n",
      "soupsieve                 2.4              py39hecd8cb5_0  \n",
      "sqlite                    3.41.1               h6c40b1e_0  \n",
      "stack_data                0.2.0              pyhd3eb1b0_0  \n",
      "terminado                 0.17.1           py39hecd8cb5_0  \n",
      "tinycss2                  1.2.1            py39hecd8cb5_0  \n",
      "tk                        8.6.12               h5d9f67b_0  \n",
      "toml                      0.10.2             pyhd3eb1b0_0  \n",
      "toolz                     0.12.0           py39hecd8cb5_0  \n",
      "tornado                   6.2              py39hca72f7f_0  \n",
      "tqdm                      4.65.0           py39h01d92e1_0  \n",
      "traitlets                 5.7.1            py39hecd8cb5_0  \n",
      "typing-extensions         4.4.0            py39hecd8cb5_0  \n",
      "typing_extensions         4.4.0            py39hecd8cb5_0  \n",
      "tzdata                    2023c                h04d1e81_0  \n",
      "urllib3                   1.26.15          py39hecd8cb5_0  \n",
      "virtualenv                20.6.0                   pypi_0    pypi\n",
      "wcwidth                   0.2.5              pyhd3eb1b0_0  \n",
      "webencodings              0.5.1            py39hecd8cb5_1  \n",
      "websocket-client          0.58.0           py39hecd8cb5_4  \n",
      "widgetsnbextension        4.0.5            py39hecd8cb5_0  \n",
      "xz                        5.2.10               h6c40b1e_1  \n",
      "zeromq                    4.3.4                h23ab428_0  \n",
      "zipp                      3.11.0           py39hecd8cb5_0  \n",
      "zlib                      1.2.13               h4dc903c_0  \n",
      "zstandard                 0.19.0           py39h6c40b1e_0  \n",
      "zstd                      1.5.4                hc035e20_0  \n"
     ]
    }
   ],
   "source": [
    "!conda list"
   ]
  },
  {
   "cell_type": "code",
   "execution_count": 14,
   "id": "1d9a3dbf-56a4-4af1-81ef-978f31c78e5f",
   "metadata": {},
   "outputs": [
    {
     "name": "stdout",
     "output_type": "stream",
     "text": [
      "Package                  Version\n",
      "------------------------ -----------\n",
      "anyio                    3.6.2\n",
      "appnope                  0.1.3\n",
      "argon2-cffi              21.3.0\n",
      "argon2-cffi-bindings     21.2.0\n",
      "arrow                    1.2.3\n",
      "asttokens                2.2.1\n",
      "atpublic                 3.1.1\n",
      "attrs                    22.2.0\n",
      "Babel                    2.11.0\n",
      "backcall                 0.2.0\n",
      "beautifulsoup4           4.11.1\n",
      "bleach                   5.0.1\n",
      "certifi                  2022.12.7\n",
      "cffi                     1.15.1\n",
      "charset-normalizer       3.0.1\n",
      "comm                     0.1.2\n",
      "commonmark               0.9.1\n",
      "debugpy                  1.6.5\n",
      "decorator                5.1.1\n",
      "defusedxml               0.7.1\n",
      "entrypoints              0.4\n",
      "executing                1.2.0\n",
      "fastjsonschema           2.16.2\n",
      "fqdn                     1.5.1\n",
      "greenlet                 2.0.1\n",
      "ibis-framework           4.0.0\n",
      "idna                     3.4\n",
      "ipykernel                6.20.1\n",
      "ipython                  8.8.0\n",
      "ipython-genutils         0.2.0\n",
      "ipywidgets               8.0.4\n",
      "isoduration              20.11.0\n",
      "jedi                     0.18.2\n",
      "Jinja2                   3.1.2\n",
      "json5                    0.9.11\n",
      "jsonpointer              2.3\n",
      "jsonschema               4.17.3\n",
      "jupyter                  1.0.0\n",
      "jupyter_client           7.4.9\n",
      "jupyter-console          6.4.4\n",
      "jupyter_core             5.1.3\n",
      "jupyter-events           0.6.3\n",
      "jupyter_server           2.1.0\n",
      "jupyter_server_terminals 0.4.4\n",
      "jupyterlab               3.5.2\n",
      "jupyterlab-pygments      0.2.2\n",
      "jupyterlab_server        2.18.0\n",
      "jupyterlab-widgets       3.0.5\n",
      "MarkupSafe               2.1.1\n",
      "matplotlib-inline        0.1.6\n",
      "mistune                  2.0.4\n",
      "multipledispatch         0.6.0\n",
      "nbclassic                0.4.8\n",
      "nbclient                 0.7.2\n",
      "nbconvert                7.2.7\n",
      "nbformat                 5.7.3\n",
      "nest-asyncio             1.5.6\n",
      "notebook                 6.5.2\n",
      "notebook_shim            0.2.2\n",
      "numpy                    1.24.1\n",
      "packaging                23.0\n",
      "pandas                   1.5.2\n",
      "pandocfilters            1.5.0\n",
      "parso                    0.8.3\n",
      "parsy                    2.0\n",
      "pexpect                  4.8.0\n",
      "pickleshare              0.7.5\n",
      "pip                      22.2.2\n",
      "platformdirs             2.6.2\n",
      "polars                   0.15.14\n",
      "prometheus-client        0.15.0\n",
      "prompt-toolkit           3.0.36\n",
      "psutil                   5.9.4\n",
      "ptyprocess               0.7.0\n",
      "pure-eval                0.2.2\n",
      "py4j                     0.10.9.5\n",
      "pyarrow                  10.0.1\n",
      "pycparser                2.21\n",
      "Pygments                 2.14.0\n",
      "pyrsistent               0.19.3\n",
      "pyspark                  3.3.1\n",
      "python-dateutil          2.8.2\n",
      "python-json-logger       2.0.4\n",
      "pytz                     2022.7.1\n",
      "PyYAML                   6.0\n",
      "pyzmq                    25.0.0\n",
      "qtconsole                5.4.0\n",
      "QtPy                     2.3.0\n",
      "regex                    2022.10.31\n",
      "requests                 2.28.2\n",
      "rfc3339-validator        0.1.4\n",
      "rfc3986-validator        0.1.1\n",
      "rich                     13.1.0\n",
      "Send2Trash               1.8.0\n",
      "setuptools               63.2.0\n",
      "six                      1.16.0\n",
      "sniffio                  1.3.0\n",
      "soupsieve                2.3.2.post1\n",
      "SQLAlchemy               1.4.46\n",
      "sqlglot                  10.5.0\n",
      "stack-data               0.6.2\n",
      "terminado                0.17.1\n",
      "tinycss2                 1.2.1\n",
      "tomli                    2.0.1\n",
      "toolz                    0.12.0\n",
      "tornado                  6.2\n",
      "traitlets                5.8.1\n",
      "typing_extensions        4.4.0\n",
      "uri-template             1.2.0\n",
      "urllib3                  1.26.14\n",
      "wcwidth                  0.2.6\n",
      "webcolors                1.12\n",
      "webencodings             0.5.1\n",
      "websocket-client         1.4.2\n",
      "widgetsnbextension       4.0.5\n",
      "\n",
      "\u001b[1m[\u001b[0m\u001b[34;49mnotice\u001b[0m\u001b[1;39;49m]\u001b[0m\u001b[39;49m A new release of pip available: \u001b[0m\u001b[31;49m22.2.2\u001b[0m\u001b[39;49m -> \u001b[0m\u001b[32;49m23.1.2\u001b[0m\n",
      "\u001b[1m[\u001b[0m\u001b[34;49mnotice\u001b[0m\u001b[1;39;49m]\u001b[0m\u001b[39;49m To update, run: \u001b[0m\u001b[32;49mpip install --upgrade pip\u001b[0m\n"
     ]
    }
   ],
   "source": [
    "!pip list"
   ]
  },
  {
   "cell_type": "code",
   "execution_count": 19,
   "id": "0d9237b1",
   "metadata": {},
   "outputs": [
    {
     "name": "stdout",
     "output_type": "stream",
     "text": [
      "Name: pandas\n",
      "Version: 2.0.1\n",
      "Summary: Powerful data structures for data analysis, time series, and statistics\n",
      "Home-page: \n",
      "Author: \n",
      "Author-email: The Pandas Development Team <pandas-dev@python.org>\n",
      "License: BSD 3-Clause License\n",
      "        \n",
      "        Copyright (c) 2008-2011, AQR Capital Management, LLC, Lambda Foundry, Inc. and PyData Development Team\n",
      "        All rights reserved.\n",
      "        \n",
      "        Copyright (c) 2011-2023, Open source contributors.\n",
      "        \n",
      "        Redistribution and use in source and binary forms, with or without\n",
      "        modification, are permitted provided that the following conditions are met:\n",
      "        \n",
      "        * Redistributions of source code must retain the above copyright notice, this\n",
      "          list of conditions and the following disclaimer.\n",
      "        \n",
      "        * Redistributions in binary form must reproduce the above copyright notice,\n",
      "          this list of conditions and the following disclaimer in the documentation\n",
      "          and/or other materials provided with the distribution.\n",
      "        \n",
      "        * Neither the name of the copyright holder nor the names of its\n",
      "          contributors may be used to endorse or promote products derived from\n",
      "          this software without specific prior written permission.\n",
      "        \n",
      "        THIS SOFTWARE IS PROVIDED BY THE COPYRIGHT HOLDERS AND CONTRIBUTORS \"AS IS\"\n",
      "        AND ANY EXPRESS OR IMPLIED WARRANTIES, INCLUDING, BUT NOT LIMITED TO, THE\n",
      "        IMPLIED WARRANTIES OF MERCHANTABILITY AND FITNESS FOR A PARTICULAR PURPOSE ARE\n",
      "        DISCLAIMED. IN NO EVENT SHALL THE COPYRIGHT HOLDER OR CONTRIBUTORS BE LIABLE\n",
      "        FOR ANY DIRECT, INDIRECT, INCIDENTAL, SPECIAL, EXEMPLARY, OR CONSEQUENTIAL\n",
      "        DAMAGES (INCLUDING, BUT NOT LIMITED TO, PROCUREMENT OF SUBSTITUTE GOODS OR\n",
      "        SERVICES; LOSS OF USE, DATA, OR PROFITS; OR BUSINESS INTERRUPTION) HOWEVER\n",
      "        CAUSED AND ON ANY THEORY OF LIABILITY, WHETHER IN CONTRACT, STRICT LIABILITY,\n",
      "        OR TORT (INCLUDING NEGLIGENCE OR OTHERWISE) ARISING IN ANY WAY OUT OF THE USE\n",
      "        OF THIS SOFTWARE, EVEN IF ADVISED OF THE POSSIBILITY OF SUCH DAMAGE.\n",
      "        \n",
      "Location: /Users/septem9907/Documents/GitHub/data2023/env/lib/python3.10/site-packages\n",
      "Requires: numpy, python-dateutil, pytz, tzdata\n",
      "Required-by: ibis-framework\n"
     ]
    }
   ],
   "source": [
    "!pip show pandas"
   ]
  },
  {
   "cell_type": "code",
   "execution_count": 20,
   "id": "6e452409",
   "metadata": {},
   "outputs": [
    {
     "name": "stdout",
     "output_type": "stream",
     "text": [
      "Name: ibis-framework\n",
      "Version: 5.1.0\n",
      "Summary: Productivity-centric Python Big Data Framework\n",
      "Home-page: https://ibis-project.org\n",
      "Author: Ibis Contributors\n",
      "Author-email: \n",
      "License: Apache-2.0\n",
      "Location: /Users/septem9907/Documents/GitHub/data2023/env/lib/python3.10/site-packages\n",
      "Requires: atpublic, bidict, multipledispatch, numpy, pandas, parsy, pooch, python-dateutil, pytz, rich, sqlglot, toolz, typing-extensions\n",
      "Required-by: \n"
     ]
    }
   ],
   "source": [
    "!pip show ibis-framework"
   ]
  },
  {
   "cell_type": "code",
   "execution_count": null,
   "id": "62867d4f",
   "metadata": {},
   "outputs": [],
   "source": []
  }
 ],
 "metadata": {
  "kernelspec": {
   "display_name": "Python 3 (ipykernel)",
   "language": "python",
   "name": "python3"
  },
  "language_info": {
   "codemirror_mode": {
    "name": "ipython",
    "version": 3
   },
   "file_extension": ".py",
   "mimetype": "text/x-python",
   "name": "python",
   "nbconvert_exporter": "python",
   "pygments_lexer": "ipython3",
   "version": "3.10.9"
  },
  "toc-autonumbering": true
 },
 "nbformat": 4,
 "nbformat_minor": 5
}
