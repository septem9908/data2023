{
 "cells": [
  {
   "cell_type": "code",
   "execution_count": 1,
   "id": "bd4e82bf-a655-48cb-9120-d3f3f727f6d4",
   "metadata": {},
   "outputs": [],
   "source": [
    "import ibis"
   ]
  },
  {
   "cell_type": "code",
   "execution_count": 2,
   "id": "6e4eae0a-529c-46d2-9d46-5eee25ceb687",
   "metadata": {},
   "outputs": [],
   "source": [
    "ibis.options.interactive = True"
   ]
  },
  {
   "cell_type": "code",
   "execution_count": 3,
   "id": "01b8ae3e-8367-4fd9-beb8-7c99abbad0fb",
   "metadata": {},
   "outputs": [],
   "source": [
    "!curl -LsS -o geography.db 'https://storage.googleapis.com/ibis-tutorial-data/geography.db'"
   ]
  },
  {
   "cell_type": "code",
   "execution_count": 3,
   "id": "50940532-5b88-4151-b424-b7527a68950e",
   "metadata": {},
   "outputs": [],
   "source": [
    "import os\n",
    "import tempfile\n",
    "\n",
    "connection = ibis.sqlite.connect(\"geography.db\")"
   ]
  },
  {
   "cell_type": "markdown",
   "id": "4290b314-0bbf-42e1-ba00-37823f13c29c",
   "metadata": {},
   "source": [
    "# Exploring the data"
   ]
  },
  {
   "cell_type": "code",
   "execution_count": 4,
   "id": "11301d22-0db8-42c1-98da-44f58bad84c1",
   "metadata": {},
   "outputs": [
    {
     "data": {
      "text/plain": [
       "['countries', 'gdp', 'independence']"
      ]
     },
     "execution_count": 4,
     "metadata": {},
     "output_type": "execute_result"
    }
   ],
   "source": [
    "connection.list_tables()"
   ]
  },
  {
   "cell_type": "code",
   "execution_count": 5,
   "id": "409dd9fe-65a9-4e02-8e7e-9fd3e3315cc9",
   "metadata": {},
   "outputs": [],
   "source": [
    "countries = connection.table(\"countries\")"
   ]
  },
  {
   "cell_type": "code",
   "execution_count": 6,
   "id": "255816d3-e9a0-4b64-a4d3-6c2a361378fb",
   "metadata": {},
   "outputs": [
    {
     "data": {
      "text/plain": [
       "['iso_alpha2',\n",
       " 'iso_alpha3',\n",
       " 'iso_numeric',\n",
       " 'fips',\n",
       " 'name',\n",
       " 'capital',\n",
       " 'area_km2',\n",
       " 'population',\n",
       " 'continent']"
      ]
     },
     "execution_count": 6,
     "metadata": {},
     "output_type": "execute_result"
    }
   ],
   "source": [
    "countries.columns"
   ]
  },
  {
   "cell_type": "code",
   "execution_count": 7,
   "id": "9c81bbb2-7ed5-4d8c-b15f-2b6dc807caa0",
   "metadata": {},
   "outputs": [
    {
     "data": {
      "text/html": [
       "<pre style=\"white-space:pre;overflow-x:auto;line-height:normal;font-family:Menlo,'DejaVu Sans Mono',consolas,'Courier New',monospace\">┏━━━━━━━━━━━━━━━━━━━━━━┳━━━━━━━━━━━┳━━━━━━━━━━━━┓\n",
       "┃<span style=\"font-weight: bold\"> name                 </span>┃<span style=\"font-weight: bold\"> continent </span>┃<span style=\"font-weight: bold\"> population </span>┃\n",
       "┡━━━━━━━━━━━━━━━━━━━━━━╇━━━━━━━━━━━╇━━━━━━━━━━━━┩\n",
       "│ <span style=\"color: #7f7f7f; text-decoration-color: #7f7f7f\">string</span>               │ <span style=\"color: #7f7f7f; text-decoration-color: #7f7f7f\">string</span>    │ <span style=\"color: #7f7f7f; text-decoration-color: #7f7f7f\">int32</span>      │\n",
       "├──────────────────────┼───────────┼────────────┤\n",
       "│ <span style=\"color: #008000; text-decoration-color: #008000\">Andorra             </span> │ <span style=\"color: #008000; text-decoration-color: #008000\">EU       </span> │      <span style=\"color: #008080; text-decoration-color: #008080; font-weight: bold\">84000</span> │\n",
       "│ <span style=\"color: #008000; text-decoration-color: #008000\">United Arab Emirates</span> │ <span style=\"color: #008000; text-decoration-color: #008000\">AS       </span> │    <span style=\"color: #008080; text-decoration-color: #008080; font-weight: bold\">4975593</span> │\n",
       "│ <span style=\"color: #008000; text-decoration-color: #008000\">Afghanistan         </span> │ <span style=\"color: #008000; text-decoration-color: #008000\">AS       </span> │   <span style=\"color: #008080; text-decoration-color: #008080; font-weight: bold\">29121286</span> │\n",
       "│ <span style=\"color: #008000; text-decoration-color: #008000\">Antigua and Barbuda </span> │ <span style=\"color: #008000; text-decoration-color: #008000\">NA       </span> │      <span style=\"color: #008080; text-decoration-color: #008080; font-weight: bold\">86754</span> │\n",
       "│ <span style=\"color: #008000; text-decoration-color: #008000\">Anguilla            </span> │ <span style=\"color: #008000; text-decoration-color: #008000\">NA       </span> │      <span style=\"color: #008080; text-decoration-color: #008080; font-weight: bold\">13254</span> │\n",
       "│ <span style=\"color: #008000; text-decoration-color: #008000\">Albania             </span> │ <span style=\"color: #008000; text-decoration-color: #008000\">EU       </span> │    <span style=\"color: #008080; text-decoration-color: #008080; font-weight: bold\">2986952</span> │\n",
       "│ <span style=\"color: #008000; text-decoration-color: #008000\">Armenia             </span> │ <span style=\"color: #008000; text-decoration-color: #008000\">AS       </span> │    <span style=\"color: #008080; text-decoration-color: #008080; font-weight: bold\">2968000</span> │\n",
       "│ <span style=\"color: #008000; text-decoration-color: #008000\">Netherlands Antilles</span> │ <span style=\"color: #008000; text-decoration-color: #008000\">NA       </span> │     <span style=\"color: #008080; text-decoration-color: #008080; font-weight: bold\">300000</span> │\n",
       "│ <span style=\"color: #008000; text-decoration-color: #008000\">Angola              </span> │ <span style=\"color: #008000; text-decoration-color: #008000\">AF       </span> │   <span style=\"color: #008080; text-decoration-color: #008080; font-weight: bold\">13068161</span> │\n",
       "│ <span style=\"color: #008000; text-decoration-color: #008000\">Antarctica          </span> │ <span style=\"color: #008000; text-decoration-color: #008000\">AN       </span> │          <span style=\"color: #008080; text-decoration-color: #008080; font-weight: bold\">0</span> │\n",
       "│ <span style=\"color: #7f7f7f; text-decoration-color: #7f7f7f\">…</span>                    │ <span style=\"color: #7f7f7f; text-decoration-color: #7f7f7f\">…</span>         │          <span style=\"color: #7f7f7f; text-decoration-color: #7f7f7f\">…</span> │\n",
       "└──────────────────────┴───────────┴────────────┘\n",
       "</pre>\n"
      ],
      "text/plain": [
       "┏━━━━━━━━━━━━━━━━━━━━━━┳━━━━━━━━━━━┳━━━━━━━━━━━━┓\n",
       "┃\u001b[1m \u001b[0m\u001b[1mname\u001b[0m\u001b[1m                \u001b[0m\u001b[1m \u001b[0m┃\u001b[1m \u001b[0m\u001b[1mcontinent\u001b[0m\u001b[1m \u001b[0m┃\u001b[1m \u001b[0m\u001b[1mpopulation\u001b[0m\u001b[1m \u001b[0m┃\n",
       "┡━━━━━━━━━━━━━━━━━━━━━━╇━━━━━━━━━━━╇━━━━━━━━━━━━┩\n",
       "│ \u001b[2mstring\u001b[0m               │ \u001b[2mstring\u001b[0m    │ \u001b[2mint32\u001b[0m      │\n",
       "├──────────────────────┼───────────┼────────────┤\n",
       "│ \u001b[32mAndorra             \u001b[0m │ \u001b[32mEU       \u001b[0m │      \u001b[1;36m84000\u001b[0m │\n",
       "│ \u001b[32mUnited Arab Emirates\u001b[0m │ \u001b[32mAS       \u001b[0m │    \u001b[1;36m4975593\u001b[0m │\n",
       "│ \u001b[32mAfghanistan         \u001b[0m │ \u001b[32mAS       \u001b[0m │   \u001b[1;36m29121286\u001b[0m │\n",
       "│ \u001b[32mAntigua and Barbuda \u001b[0m │ \u001b[32mNA       \u001b[0m │      \u001b[1;36m86754\u001b[0m │\n",
       "│ \u001b[32mAnguilla            \u001b[0m │ \u001b[32mNA       \u001b[0m │      \u001b[1;36m13254\u001b[0m │\n",
       "│ \u001b[32mAlbania             \u001b[0m │ \u001b[32mEU       \u001b[0m │    \u001b[1;36m2986952\u001b[0m │\n",
       "│ \u001b[32mArmenia             \u001b[0m │ \u001b[32mAS       \u001b[0m │    \u001b[1;36m2968000\u001b[0m │\n",
       "│ \u001b[32mNetherlands Antilles\u001b[0m │ \u001b[32mNA       \u001b[0m │     \u001b[1;36m300000\u001b[0m │\n",
       "│ \u001b[32mAngola              \u001b[0m │ \u001b[32mAF       \u001b[0m │   \u001b[1;36m13068161\u001b[0m │\n",
       "│ \u001b[32mAntarctica          \u001b[0m │ \u001b[32mAN       \u001b[0m │          \u001b[1;36m0\u001b[0m │\n",
       "│ \u001b[2m…\u001b[0m                    │ \u001b[2m…\u001b[0m         │          \u001b[2m…\u001b[0m │\n",
       "└──────────────────────┴───────────┴────────────┘"
      ]
     },
     "execution_count": 7,
     "metadata": {},
     "output_type": "execute_result"
    }
   ],
   "source": [
    "countries[\"name\", \"continent\", \"population\"]"
   ]
  },
  {
   "cell_type": "code",
   "execution_count": 8,
   "id": "019e208c-b435-4550-be46-f70ee2df6ed9",
   "metadata": {},
   "outputs": [
    {
     "data": {
      "text/html": [
       "<pre style=\"white-space:pre;overflow-x:auto;line-height:normal;font-family:Menlo,'DejaVu Sans Mono',consolas,'Courier New',monospace\"></pre>\n"
      ],
      "text/plain": []
     },
     "metadata": {},
     "output_type": "display_data"
    },
    {
     "data": {
      "text/plain": [
       "\u001b[1;36m252\u001b[0m"
      ]
     },
     "execution_count": 8,
     "metadata": {},
     "output_type": "execute_result"
    }
   ],
   "source": [
    "countries.count()"
   ]
  },
  {
   "cell_type": "code",
   "execution_count": 9,
   "id": "96ca5903-f325-4c20-9a34-d3d608253360",
   "metadata": {},
   "outputs": [
    {
     "data": {
      "text/html": [
       "<pre style=\"white-space:pre;overflow-x:auto;line-height:normal;font-family:Menlo,'DejaVu Sans Mono',consolas,'Courier New',monospace\">┏━━━━━━━━━━━━━━━━━━━━━━┳━━━━━━━━━━━┳━━━━━━━━━━━━┓\n",
       "┃<span style=\"font-weight: bold\"> name                 </span>┃<span style=\"font-weight: bold\"> continent </span>┃<span style=\"font-weight: bold\"> population </span>┃\n",
       "┡━━━━━━━━━━━━━━━━━━━━━━╇━━━━━━━━━━━╇━━━━━━━━━━━━┩\n",
       "│ <span style=\"color: #7f7f7f; text-decoration-color: #7f7f7f\">string</span>               │ <span style=\"color: #7f7f7f; text-decoration-color: #7f7f7f\">string</span>    │ <span style=\"color: #7f7f7f; text-decoration-color: #7f7f7f\">int32</span>      │\n",
       "├──────────────────────┼───────────┼────────────┤\n",
       "│ <span style=\"color: #008000; text-decoration-color: #008000\">Andorra             </span> │ <span style=\"color: #008000; text-decoration-color: #008000\">EU       </span> │      <span style=\"color: #008080; text-decoration-color: #008080; font-weight: bold\">84000</span> │\n",
       "│ <span style=\"color: #008000; text-decoration-color: #008000\">United Arab Emirates</span> │ <span style=\"color: #008000; text-decoration-color: #008000\">AS       </span> │    <span style=\"color: #008080; text-decoration-color: #008080; font-weight: bold\">4975593</span> │\n",
       "│ <span style=\"color: #008000; text-decoration-color: #008000\">Afghanistan         </span> │ <span style=\"color: #008000; text-decoration-color: #008000\">AS       </span> │   <span style=\"color: #008080; text-decoration-color: #008080; font-weight: bold\">29121286</span> │\n",
       "└──────────────────────┴───────────┴────────────┘\n",
       "</pre>\n"
      ],
      "text/plain": [
       "┏━━━━━━━━━━━━━━━━━━━━━━┳━━━━━━━━━━━┳━━━━━━━━━━━━┓\n",
       "┃\u001b[1m \u001b[0m\u001b[1mname\u001b[0m\u001b[1m                \u001b[0m\u001b[1m \u001b[0m┃\u001b[1m \u001b[0m\u001b[1mcontinent\u001b[0m\u001b[1m \u001b[0m┃\u001b[1m \u001b[0m\u001b[1mpopulation\u001b[0m\u001b[1m \u001b[0m┃\n",
       "┡━━━━━━━━━━━━━━━━━━━━━━╇━━━━━━━━━━━╇━━━━━━━━━━━━┩\n",
       "│ \u001b[2mstring\u001b[0m               │ \u001b[2mstring\u001b[0m    │ \u001b[2mint32\u001b[0m      │\n",
       "├──────────────────────┼───────────┼────────────┤\n",
       "│ \u001b[32mAndorra             \u001b[0m │ \u001b[32mEU       \u001b[0m │      \u001b[1;36m84000\u001b[0m │\n",
       "│ \u001b[32mUnited Arab Emirates\u001b[0m │ \u001b[32mAS       \u001b[0m │    \u001b[1;36m4975593\u001b[0m │\n",
       "│ \u001b[32mAfghanistan         \u001b[0m │ \u001b[32mAS       \u001b[0m │   \u001b[1;36m29121286\u001b[0m │\n",
       "└──────────────────────┴───────────┴────────────┘"
      ]
     },
     "execution_count": 9,
     "metadata": {},
     "output_type": "execute_result"
    }
   ],
   "source": [
    "countries[\"name\", \"continent\", \"population\"].limit(3)"
   ]
  },
  {
   "cell_type": "markdown",
   "id": "74263a58-ccd4-4f78-af4d-88f65519168f",
   "metadata": {},
   "source": [
    "# Filters and order"
   ]
  },
  {
   "cell_type": "code",
   "execution_count": 10,
   "id": "e584590d-4686-4eca-9794-f41bd1441f28",
   "metadata": {},
   "outputs": [
    {
     "data": {
      "text/html": [
       "<pre style=\"white-space:pre;overflow-x:auto;line-height:normal;font-family:Menlo,'DejaVu Sans Mono',consolas,'Courier New',monospace\">┏━━━━━━━━━━━┓\n",
       "┃<span style=\"font-weight: bold\"> continent </span>┃\n",
       "┡━━━━━━━━━━━┩\n",
       "│ <span style=\"color: #7f7f7f; text-decoration-color: #7f7f7f\">string</span>    │\n",
       "├───────────┤\n",
       "│ <span style=\"color: #008000; text-decoration-color: #008000\">EU       </span> │\n",
       "│ <span style=\"color: #008000; text-decoration-color: #008000\">AS       </span> │\n",
       "│ <span style=\"color: #008000; text-decoration-color: #008000\">NA       </span> │\n",
       "│ <span style=\"color: #008000; text-decoration-color: #008000\">AF       </span> │\n",
       "│ <span style=\"color: #008000; text-decoration-color: #008000\">AN       </span> │\n",
       "│ <span style=\"color: #008000; text-decoration-color: #008000\">SA       </span> │\n",
       "│ <span style=\"color: #008000; text-decoration-color: #008000\">OC       </span> │\n",
       "└───────────┘\n",
       "</pre>\n"
      ],
      "text/plain": [
       "┏━━━━━━━━━━━┓\n",
       "┃\u001b[1m \u001b[0m\u001b[1mcontinent\u001b[0m\u001b[1m \u001b[0m┃\n",
       "┡━━━━━━━━━━━┩\n",
       "│ \u001b[2mstring\u001b[0m    │\n",
       "├───────────┤\n",
       "│ \u001b[32mEU       \u001b[0m │\n",
       "│ \u001b[32mAS       \u001b[0m │\n",
       "│ \u001b[32mNA       \u001b[0m │\n",
       "│ \u001b[32mAF       \u001b[0m │\n",
       "│ \u001b[32mAN       \u001b[0m │\n",
       "│ \u001b[32mSA       \u001b[0m │\n",
       "│ \u001b[32mOC       \u001b[0m │\n",
       "└───────────┘"
      ]
     },
     "execution_count": 10,
     "metadata": {},
     "output_type": "execute_result"
    }
   ],
   "source": [
    "countries[[\"continent\"]].distinct()"
   ]
  },
  {
   "cell_type": "code",
   "execution_count": 11,
   "id": "50614277-58ea-40bd-a4b1-3922a2fb8185",
   "metadata": {},
   "outputs": [],
   "source": [
    "import pandas as pd"
   ]
  },
  {
   "cell_type": "code",
   "execution_count": 12,
   "id": "ff907bba-ebfa-408e-aba3-6e0f1f01e139",
   "metadata": {},
   "outputs": [
    {
     "name": "stdout",
     "output_type": "stream",
     "text": [
      "# packages in environment at /home/septem9907/miniconda3/envs/pydata-book:\n",
      "#\n",
      "# Name                    Version                   Build  Channel\n",
      "_libgcc_mutex             0.1                 conda_forge    conda-forge\n",
      "_openmp_mutex             4.5                       2_gnu    conda-forge\n",
      "alsa-lib                  1.2.8                h166bdaf_0    conda-forge\n",
      "anyio                     3.6.2              pyhd8ed1ab_0    conda-forge\n",
      "argon2-cffi               21.3.0             pyhd8ed1ab_0    conda-forge\n",
      "argon2-cffi-bindings      21.2.0          py310h5764c6d_3    conda-forge\n",
      "arrow-cpp                 11.0.0          ha770c72_14_cpu    conda-forge\n",
      "asttokens                 2.2.1              pyhd8ed1ab_0    conda-forge\n",
      "atk-1.0                   2.38.0               hd4edc92_1    conda-forge\n",
      "atpublic                  3.0.1              pyhd8ed1ab_0    conda-forge\n",
      "attr                      2.5.1                h166bdaf_1    conda-forge\n",
      "attrs                     22.2.0             pyh71513ae_0    conda-forge\n",
      "aws-c-auth                0.6.26               hf365957_1    conda-forge\n",
      "aws-c-cal                 0.5.21               h48707d8_2    conda-forge\n",
      "aws-c-common              0.8.14               h0b41bf4_0    conda-forge\n",
      "aws-c-compression         0.2.16               h03acc5a_5    conda-forge\n",
      "aws-c-event-stream        0.2.20               h00877a2_4    conda-forge\n",
      "aws-c-http                0.7.6                hf342b9f_0    conda-forge\n",
      "aws-c-io                  0.13.19              h5b20300_3    conda-forge\n",
      "aws-c-mqtt                0.8.6               hc4349f7_12    conda-forge\n",
      "aws-c-s3                  0.2.7                h909e904_1    conda-forge\n",
      "aws-c-sdkutils            0.1.8                h03acc5a_0    conda-forge\n",
      "aws-checksums             0.1.14               h03acc5a_5    conda-forge\n",
      "aws-crt-cpp               0.19.8              hf7fbfca_12    conda-forge\n",
      "aws-sdk-cpp               1.10.57              h17c43bd_8    conda-forge\n",
      "babel                     2.12.1             pyhd8ed1ab_1    conda-forge\n",
      "backcall                  0.2.0              pyh9f0ad1d_0    conda-forge\n",
      "backports                 1.0                pyhd8ed1ab_3    conda-forge\n",
      "backports.functools_lru_cache 1.6.4              pyhd8ed1ab_0    conda-forge\n",
      "bcrypt                    3.2.2           py310h5764c6d_1    conda-forge\n",
      "beautifulsoup4            4.12.2             pyha770c72_0    conda-forge\n",
      "bidict                    0.22.1             pyhd8ed1ab_0    conda-forge\n",
      "bleach                    6.0.0              pyhd8ed1ab_0    conda-forge\n",
      "brotli                    1.0.9                h166bdaf_8    conda-forge\n",
      "brotli-bin                1.0.9                h166bdaf_8    conda-forge\n",
      "brotlipy                  0.7.0           py310h5764c6d_1005    conda-forge\n",
      "bzip2                     1.0.8                h7f98852_4    conda-forge\n",
      "c-ares                    1.18.1               h7f98852_0    conda-forge\n",
      "ca-certificates           2022.12.7            ha878542_0    conda-forge\n",
      "cairo                     1.16.0            h35add3b_1015    conda-forge\n",
      "certifi                   2022.12.7          pyhd8ed1ab_0    conda-forge\n",
      "cffi                      1.15.1          py310h255011f_3    conda-forge\n",
      "charset-normalizer        3.1.0              pyhd8ed1ab_0    conda-forge\n",
      "colorama                  0.4.6              pyhd8ed1ab_0    conda-forge\n",
      "comm                      0.1.3              pyhd8ed1ab_0    conda-forge\n",
      "contourpy                 1.0.7           py310hdf3cbec_0    conda-forge\n",
      "cryptography              40.0.2          py310h34c0648_0    conda-forge\n",
      "cycler                    0.11.0             pyhd8ed1ab_0    conda-forge\n",
      "dbus                      1.13.6               h5008d03_3    conda-forge\n",
      "debugpy                   1.6.7           py310heca2aa9_0    conda-forge\n",
      "decorator                 5.1.1              pyhd8ed1ab_0    conda-forge\n",
      "defusedxml                0.7.1              pyhd8ed1ab_0    conda-forge\n",
      "duckdb-engine             0.7.0              pyhd8ed1ab_0    conda-forge\n",
      "dunamai                   1.16.0             pyhd8ed1ab_0    conda-forge\n",
      "entrypoints               0.4                pyhd8ed1ab_0    conda-forge\n",
      "executing                 1.2.0              pyhd8ed1ab_0    conda-forge\n",
      "expat                     2.5.0                hcb278e6_1    conda-forge\n",
      "flit-core                 3.8.0              pyhd8ed1ab_0    conda-forge\n",
      "font-ttf-dejavu-sans-mono 2.37                 hab24e00_0    conda-forge\n",
      "font-ttf-inconsolata      3.000                h77eed37_0    conda-forge\n",
      "font-ttf-source-code-pro  2.038                h77eed37_0    conda-forge\n",
      "font-ttf-ubuntu           0.83                 hab24e00_0    conda-forge\n",
      "fontconfig                2.14.2               h14ed4e7_0    conda-forge\n",
      "fonts-conda-ecosystem     1                             0    conda-forge\n",
      "fonts-conda-forge         1                             0    conda-forge\n",
      "fonttools                 4.39.3          py310h1fa729e_0    conda-forge\n",
      "freetype                  2.12.1               hca18f0e_1    conda-forge\n",
      "fribidi                   1.0.10               h36c2ea0_0    conda-forge\n",
      "gdk-pixbuf                2.42.10              h6b639ba_2    conda-forge\n",
      "gettext                   0.21.1               h27087fc_0    conda-forge\n",
      "gflags                    2.2.2             he1b5a44_1004    conda-forge\n",
      "giflib                    5.2.1                h0b41bf4_3    conda-forge\n",
      "glib                      2.76.2               hfc55251_0    conda-forge\n",
      "glib-tools                2.76.2               hfc55251_0    conda-forge\n",
      "glog                      0.6.0                h6f12383_0    conda-forge\n",
      "graphite2                 1.3.13            h58526e2_1001    conda-forge\n",
      "graphviz                  8.0.3                h2e5815a_0    conda-forge\n",
      "greenlet                  2.0.2           py310heca2aa9_0    conda-forge\n",
      "gst-plugins-base          1.22.0               h4243ec0_2    conda-forge\n",
      "gstreamer                 1.22.0               h25f0c4b_2    conda-forge\n",
      "gtk2                      2.24.33              h90689f9_2    conda-forge\n",
      "gts                       0.7.6                h64030ff_2    conda-forge\n",
      "harfbuzz                  6.0.0                h3ff4399_1    conda-forge\n",
      "ibis-framework            5.1.0                hd8ed1ab_0    conda-forge\n",
      "ibis-framework-core       5.1.0              pyhd8ed1ab_0    conda-forge\n",
      "icu                       72.1                 hcb278e6_0    conda-forge\n",
      "idna                      3.4                pyhd8ed1ab_0    conda-forge\n",
      "importlib-metadata        6.6.0              pyha770c72_0    conda-forge\n",
      "importlib_metadata        6.6.0                hd8ed1ab_0    conda-forge\n",
      "importlib_resources       5.12.0             pyhd8ed1ab_0    conda-forge\n",
      "ipykernel                 6.22.0             pyh210e3f2_0    conda-forge\n",
      "ipython                   8.12.0             pyh41d4057_0    conda-forge\n",
      "ipython_genutils          0.2.0                      py_1    conda-forge\n",
      "ipywidgets                8.0.6              pyhd8ed1ab_0    conda-forge\n",
      "jedi                      0.18.2             pyhd8ed1ab_0    conda-forge\n",
      "jinja2                    3.1.2              pyhd8ed1ab_1    conda-forge\n",
      "json5                     0.9.5              pyh9f0ad1d_0    conda-forge\n",
      "jsonschema                4.17.3             pyhd8ed1ab_0    conda-forge\n",
      "jupyter                   1.0.0           py310hff52083_8    conda-forge\n",
      "jupyter_client            8.2.0              pyhd8ed1ab_0    conda-forge\n",
      "jupyter_console           6.6.3              pyhd8ed1ab_0    conda-forge\n",
      "jupyter_core              5.3.0           py310hff52083_0    conda-forge\n",
      "jupyter_events            0.6.3              pyhd8ed1ab_0    conda-forge\n",
      "jupyter_server            2.5.0              pyhd8ed1ab_0    conda-forge\n",
      "jupyter_server_terminals  0.4.4              pyhd8ed1ab_1    conda-forge\n",
      "jupyterlab                3.5.3              pyhd8ed1ab_0    conda-forge\n",
      "jupyterlab_pygments       0.2.2              pyhd8ed1ab_0    conda-forge\n",
      "jupyterlab_server         2.22.1             pyhd8ed1ab_0    conda-forge\n",
      "jupyterlab_widgets        3.0.7              pyhd8ed1ab_0    conda-forge\n",
      "keyutils                  1.6.1                h166bdaf_0    conda-forge\n",
      "kiwisolver                1.4.4           py310hbf28c38_1    conda-forge\n",
      "krb5                      1.20.1               h81ceb04_0    conda-forge\n",
      "lame                      3.100             h166bdaf_1003    conda-forge\n",
      "lcms2                     2.15                 haa2dc70_1    conda-forge\n",
      "ld_impl_linux-64          2.40                 h41732ed_0    conda-forge\n",
      "lerc                      4.0.0                h27087fc_0    conda-forge\n",
      "libabseil                 20230125.0      cxx17_hcb278e6_1    conda-forge\n",
      "libarrow                  11.0.0          h93537a5_14_cpu    conda-forge\n",
      "libblas                   3.9.0           16_linux64_openblas    conda-forge\n",
      "libbrotlicommon           1.0.9                h166bdaf_8    conda-forge\n",
      "libbrotlidec              1.0.9                h166bdaf_8    conda-forge\n",
      "libbrotlienc              1.0.9                h166bdaf_8    conda-forge\n",
      "libcap                    2.67                 he9d0100_0    conda-forge\n",
      "libcblas                  3.9.0           16_linux64_openblas    conda-forge\n",
      "libclang                  16.0.2          default_h83cc7fd_0    conda-forge\n",
      "libclang13                16.0.2          default_hd781213_0    conda-forge\n",
      "libcrc32c                 1.1.2                h9c3ff4c_0    conda-forge\n",
      "libcups                   2.3.3                h36d4200_3    conda-forge\n",
      "libcurl                   8.0.1                h588be90_0    conda-forge\n",
      "libdeflate                1.18                 h0b41bf4_0    conda-forge\n",
      "libedit                   3.1.20191231         he28a2e2_2    conda-forge\n",
      "libev                     4.33                 h516909a_1    conda-forge\n",
      "libevent                  2.1.10               h28343ad_4    conda-forge\n",
      "libexpat                  2.5.0                hcb278e6_1    conda-forge\n",
      "libffi                    3.4.2                h7f98852_5    conda-forge\n",
      "libflac                   1.4.2                h27087fc_0    conda-forge\n",
      "libgcc-ng                 12.2.0              h65d4601_19    conda-forge\n",
      "libgcrypt                 1.10.1               h166bdaf_0    conda-forge\n",
      "libgd                     2.3.3                hfa28ad5_6    conda-forge\n",
      "libgfortran-ng            12.2.0              h69a702a_19    conda-forge\n",
      "libgfortran5              12.2.0              h337968e_19    conda-forge\n",
      "libglib                   2.76.2               hebfc3b9_0    conda-forge\n",
      "libgomp                   12.2.0              h65d4601_19    conda-forge\n",
      "libgoogle-cloud           2.8.0                h0bc5f78_1    conda-forge\n",
      "libgpg-error              1.46                 h620e276_0    conda-forge\n",
      "libgrpc                   1.52.1               hcf146ea_1    conda-forge\n",
      "libiconv                  1.17                 h166bdaf_0    conda-forge\n",
      "libjpeg-turbo             2.1.5.1              h0b41bf4_0    conda-forge\n",
      "liblapack                 3.9.0           16_linux64_openblas    conda-forge\n",
      "libllvm16                 16.0.2               hbf9e925_0    conda-forge\n",
      "libnghttp2                1.52.0               h61bc06f_0    conda-forge\n",
      "libnsl                    2.0.0                h7f98852_0    conda-forge\n",
      "libnuma                   2.0.16               h0b41bf4_1    conda-forge\n",
      "libogg                    1.3.4                h7f98852_1    conda-forge\n",
      "libopenblas               0.3.21          pthreads_h78a6416_3    conda-forge\n",
      "libopus                   1.3.1                h7f98852_1    conda-forge\n",
      "libpng                    1.6.39               h753d276_0    conda-forge\n",
      "libpq                     15.2                 hb675445_0    conda-forge\n",
      "libprotobuf               3.21.12              h3eb15da_0    conda-forge\n",
      "librsvg                   2.56.0               h5cef280_0    conda-forge\n",
      "libsndfile                1.2.0                hb75c966_0    conda-forge\n",
      "libsodium                 1.0.18               h36c2ea0_1    conda-forge\n",
      "libsqlite                 3.40.0               h753d276_1    conda-forge\n",
      "libssh2                   1.10.0               hf14f497_3    conda-forge\n",
      "libstdcxx-ng              12.2.0              h46fd767_19    conda-forge\n",
      "libsystemd0               253                  h8c4010b_1    conda-forge\n",
      "libthrift                 0.18.1               h5e4af38_0    conda-forge\n",
      "libtiff                   4.5.0                ha587672_6    conda-forge\n",
      "libtool                   2.4.7                h27087fc_0    conda-forge\n",
      "libutf8proc               2.8.0                h166bdaf_0    conda-forge\n",
      "libuuid                   2.38.1               h0b41bf4_0    conda-forge\n",
      "libvorbis                 1.3.7                h9c3ff4c_0    conda-forge\n",
      "libwebp                   1.3.0                hb47c5f0_0    conda-forge\n",
      "libwebp-base              1.3.0                h0b41bf4_0    conda-forge\n",
      "libxcb                    1.13              h7f98852_1004    conda-forge\n",
      "libxkbcommon              1.5.0                h79f4944_1    conda-forge\n",
      "libxml2                   2.10.4               hfdac1af_0    conda-forge\n",
      "libzlib                   1.2.13               h166bdaf_4    conda-forge\n",
      "lz4-c                     1.9.4                hcb278e6_0    conda-forge\n",
      "markdown-it-py            2.2.0              pyhd8ed1ab_0    conda-forge\n",
      "markupsafe                2.1.2           py310h1fa729e_0    conda-forge\n",
      "matplotlib                3.7.1           py310hff52083_0    conda-forge\n",
      "matplotlib-base           3.7.1           py310he60537e_0    conda-forge\n",
      "matplotlib-inline         0.1.6              pyhd8ed1ab_0    conda-forge\n",
      "mdurl                     0.1.0              pyhd8ed1ab_0    conda-forge\n",
      "mistune                   2.0.5              pyhd8ed1ab_0    conda-forge\n",
      "mpg123                    1.31.3               hcb278e6_0    conda-forge\n",
      "multipledispatch          0.6.0                      py_0    conda-forge\n",
      "munkres                   1.1.4              pyh9f0ad1d_0    conda-forge\n",
      "mysql-common              8.0.32               ha901b37_1    conda-forge\n",
      "mysql-libs                8.0.32               hd7da12d_1    conda-forge\n",
      "nbclassic                 0.5.5              pyhb4ecaf3_1    conda-forge\n",
      "nbclient                  0.7.3              pyhd8ed1ab_0    conda-forge\n",
      "nbconvert                 7.3.1              pyhd8ed1ab_0    conda-forge\n",
      "nbconvert-core            7.3.1              pyhd8ed1ab_0    conda-forge\n",
      "nbconvert-pandoc          7.3.1              pyhd8ed1ab_0    conda-forge\n",
      "nbformat                  5.8.0              pyhd8ed1ab_0    conda-forge\n",
      "ncurses                   6.3                  h27087fc_1    conda-forge\n",
      "nest-asyncio              1.5.6              pyhd8ed1ab_0    conda-forge\n",
      "notebook                  6.5.4              pyha770c72_0    conda-forge\n",
      "notebook-shim             0.2.3              pyhd8ed1ab_0    conda-forge\n",
      "nspr                      4.35                 h27087fc_0    conda-forge\n",
      "nss                       3.89                 he45b914_0    conda-forge\n",
      "numpy                     1.24.3          py310ha4c1d20_0    conda-forge\n",
      "openjpeg                  2.5.0                hfec8fc6_2    conda-forge\n",
      "openssl                   3.1.0                hd590300_2    conda-forge\n",
      "orc                       1.8.3                hfdbbad2_0    conda-forge\n",
      "packaging                 23.1               pyhd8ed1ab_0    conda-forge\n",
      "pandas                    2.0.1           py310h7cbd5c2_0    conda-forge\n",
      "pandoc                    2.19.2               h32600fe_2    conda-forge\n",
      "pandocfilters             1.5.0              pyhd8ed1ab_0    conda-forge\n",
      "pango                     1.50.14              hd33c08f_0    conda-forge\n",
      "paramiko                  3.1.0              pyhd8ed1ab_0    conda-forge\n",
      "parquet-cpp               1.5.1                         2    conda-forge\n",
      "parso                     0.8.3              pyhd8ed1ab_0    conda-forge\n",
      "parsy                     2.1                pyhd8ed1ab_0    conda-forge\n",
      "pcre2                     10.40                hc3806b6_0    conda-forge\n",
      "pexpect                   4.8.0              pyh1a96a4e_2    conda-forge\n",
      "pickleshare               0.7.5                   py_1003    conda-forge\n",
      "pillow                    9.5.0           py310h065c6d2_0    conda-forge\n",
      "pip                       23.1.1             pyhd8ed1ab_0    conda-forge\n",
      "pixman                    0.40.0               h36c2ea0_0    conda-forge\n",
      "pkgutil-resolve-name      1.3.10             pyhd8ed1ab_0    conda-forge\n",
      "platformdirs              3.2.0              pyhd8ed1ab_0    conda-forge\n",
      "ply                       3.11                       py_1    conda-forge\n",
      "poetry-dynamic-versioning 0.21.4             pyhd8ed1ab_0    conda-forge\n",
      "pooch                     1.7.0              pyha770c72_3    conda-forge\n",
      "pooch-extra               1.7.0              pyhd8ed1ab_3    conda-forge\n",
      "prometheus_client         0.16.0             pyhd8ed1ab_0    conda-forge\n",
      "prompt-toolkit            3.0.38             pyha770c72_0    conda-forge\n",
      "prompt_toolkit            3.0.38               hd8ed1ab_0    conda-forge\n",
      "psutil                    5.9.5           py310h1fa729e_0    conda-forge\n",
      "pthread-stubs             0.4               h36c2ea0_1001    conda-forge\n",
      "ptyprocess                0.7.0              pyhd3deb0d_0    conda-forge\n",
      "pulseaudio-client         16.1                 h5195f5e_3    conda-forge\n",
      "pure_eval                 0.2.2              pyhd8ed1ab_0    conda-forge\n",
      "pyarrow                   11.0.0          py310h633f555_14_cpu    conda-forge\n",
      "pycparser                 2.21               pyhd8ed1ab_0    conda-forge\n",
      "pygments                  2.15.1             pyhd8ed1ab_0    conda-forge\n",
      "pynacl                    1.5.0           py310h5764c6d_2    conda-forge\n",
      "pyopenssl                 23.1.1             pyhd8ed1ab_0    conda-forge\n",
      "pyparsing                 3.0.9              pyhd8ed1ab_0    conda-forge\n",
      "pyqt                      5.15.7          py310hab646b1_3    conda-forge\n",
      "pyqt5-sip                 12.11.0         py310heca2aa9_3    conda-forge\n",
      "pyrsistent                0.19.3          py310h1fa729e_0    conda-forge\n",
      "pysocks                   1.7.1              pyha2e5f31_6    conda-forge\n",
      "python                    3.10.10         he550d4f_0_cpython    conda-forge\n",
      "python-dateutil           2.8.2              pyhd8ed1ab_0    conda-forge\n",
      "python-duckdb             0.7.1           py310h13fce15_0    conda-forge\n",
      "python-fastjsonschema     2.16.3             pyhd8ed1ab_0    conda-forge\n",
      "python-graphviz           0.20.1             pyh22cad53_0    conda-forge\n",
      "python-json-logger        2.0.7              pyhd8ed1ab_0    conda-forge\n",
      "python-tzdata             2023.3             pyhd8ed1ab_0    conda-forge\n",
      "python-xxhash             3.2.0           py310h1fa729e_0    conda-forge\n",
      "python_abi                3.10                    3_cp310    conda-forge\n",
      "pytz                      2023.3             pyhd8ed1ab_0    conda-forge\n",
      "pyyaml                    6.0             py310h5764c6d_5    conda-forge\n",
      "pyzmq                     25.0.2          py310h059b190_0    conda-forge\n",
      "qt-main                   5.15.8               h5c52f38_9    conda-forge\n",
      "qtconsole                 5.4.2              pyhd8ed1ab_0    conda-forge\n",
      "qtconsole-base            5.4.2              pyha770c72_0    conda-forge\n",
      "qtpy                      2.3.1              pyhd8ed1ab_0    conda-forge\n",
      "re2                       2023.02.02           hcb278e6_0    conda-forge\n",
      "readline                  8.2                  h8228510_1    conda-forge\n",
      "regex                     2023.3.23       py310h1fa729e_0    conda-forge\n",
      "requests                  2.28.2             pyhd8ed1ab_1    conda-forge\n",
      "rfc3339-validator         0.1.4              pyhd8ed1ab_0    conda-forge\n",
      "rfc3986-validator         0.1.1              pyh9f0ad1d_0    conda-forge\n",
      "rich                      13.3.4             pyhd8ed1ab_0    conda-forge\n",
      "s2n                       1.3.41               h3358134_0    conda-forge\n",
      "send2trash                1.8.0              pyhd8ed1ab_0    conda-forge\n",
      "setuptools                67.7.2             pyhd8ed1ab_0    conda-forge\n",
      "sip                       6.7.9           py310hc6cd4ac_0    conda-forge\n",
      "six                       1.16.0             pyh6c4a22f_0    conda-forge\n",
      "snappy                    1.1.10               h9fff704_0    conda-forge\n",
      "sniffio                   1.3.0              pyhd8ed1ab_0    conda-forge\n",
      "soupsieve                 2.3.2.post1        pyhd8ed1ab_0    conda-forge\n",
      "sqlalchemy                2.0.10          py310h2372a71_0    conda-forge\n",
      "sqlalchemy-views          0.3.2              pyhd8ed1ab_0    conda-forge\n",
      "sqlglot                   11.5.7             pyhd8ed1ab_0    conda-forge\n",
      "stack_data                0.6.2              pyhd8ed1ab_0    conda-forge\n",
      "terminado                 0.17.1             pyh41d4057_0    conda-forge\n",
      "tinycss2                  1.2.1              pyhd8ed1ab_0    conda-forge\n",
      "tk                        8.6.12               h27826a3_0    conda-forge\n",
      "toml                      0.10.2             pyhd8ed1ab_0    conda-forge\n",
      "tomli                     2.0.1              pyhd8ed1ab_0    conda-forge\n",
      "tomlkit                   0.11.7             pyha770c72_0    conda-forge\n",
      "toolz                     0.12.0             pyhd8ed1ab_0    conda-forge\n",
      "tornado                   6.3             py310h1fa729e_0    conda-forge\n",
      "tqdm                      4.65.0             pyhd8ed1ab_1    conda-forge\n",
      "traitlets                 5.9.0              pyhd8ed1ab_0    conda-forge\n",
      "typing                    3.10.0.0           pyhd8ed1ab_0    conda-forge\n",
      "typing-extensions         4.5.0                hd8ed1ab_0    conda-forge\n",
      "typing_extensions         4.5.0              pyha770c72_0    conda-forge\n",
      "tzdata                    2023c                h71feb2d_0    conda-forge\n",
      "ucx                       1.14.0               h8c404fb_1    conda-forge\n",
      "unicodedata2              15.0.0          py310h5764c6d_0    conda-forge\n",
      "urllib3                   1.26.15            pyhd8ed1ab_0    conda-forge\n",
      "wcwidth                   0.2.6              pyhd8ed1ab_0    conda-forge\n",
      "webencodings              0.5.1                      py_1    conda-forge\n",
      "websocket-client          1.5.1              pyhd8ed1ab_0    conda-forge\n",
      "wheel                     0.40.0             pyhd8ed1ab_0    conda-forge\n",
      "widgetsnbextension        4.0.7              pyhd8ed1ab_0    conda-forge\n",
      "xcb-util                  0.4.0                h166bdaf_0    conda-forge\n",
      "xcb-util-image            0.4.0                h166bdaf_0    conda-forge\n",
      "xcb-util-keysyms          0.4.0                h166bdaf_0    conda-forge\n",
      "xcb-util-renderutil       0.3.9                h166bdaf_0    conda-forge\n",
      "xcb-util-wm               0.4.1                h166bdaf_0    conda-forge\n",
      "xkeyboard-config          2.38                 h0b41bf4_0    conda-forge\n",
      "xorg-kbproto              1.0.7             h7f98852_1002    conda-forge\n",
      "xorg-libice               1.0.10               h7f98852_0    conda-forge\n",
      "xorg-libsm                1.2.3             hd9c2040_1000    conda-forge\n",
      "xorg-libx11               1.8.4                h0b41bf4_0    conda-forge\n",
      "xorg-libxau               1.0.9                h7f98852_0    conda-forge\n",
      "xorg-libxdmcp             1.1.3                h7f98852_0    conda-forge\n",
      "xorg-libxext              1.3.4                h0b41bf4_2    conda-forge\n",
      "xorg-libxrender           0.9.10            h7f98852_1003    conda-forge\n",
      "xorg-renderproto          0.11.1            h7f98852_1002    conda-forge\n",
      "xorg-xextproto            7.3.0             h0b41bf4_1003    conda-forge\n",
      "xorg-xf86vidmodeproto     2.3.1             h7f98852_1002    conda-forge\n",
      "xorg-xproto               7.0.31            h7f98852_1007    conda-forge\n",
      "xxhash                    0.8.1                h0b41bf4_0    conda-forge\n",
      "xz                        5.2.6                h166bdaf_0    conda-forge\n",
      "yaml                      0.2.5                h7f98852_2    conda-forge\n",
      "zeromq                    4.3.4                h9c3ff4c_1    conda-forge\n",
      "zipp                      3.15.0             pyhd8ed1ab_0    conda-forge\n",
      "zlib                      1.2.13               h166bdaf_4    conda-forge\n",
      "zstd                      1.5.2                h3eb15da_6    conda-forge\n"
     ]
    }
   ],
   "source": [
    "!conda list"
   ]
  },
  {
   "cell_type": "code",
   "execution_count": null,
   "id": "1d9a3dbf-56a4-4af1-81ef-978f31c78e5f",
   "metadata": {},
   "outputs": [],
   "source": []
  }
 ],
 "metadata": {
  "kernelspec": {
   "display_name": "Python 3 (ipykernel)",
   "language": "python",
   "name": "python3"
  },
  "language_info": {
   "codemirror_mode": {
    "name": "ipython",
    "version": 3
   },
   "file_extension": ".py",
   "mimetype": "text/x-python",
   "name": "python",
   "nbconvert_exporter": "python",
   "pygments_lexer": "ipython3",
   "version": "3.10.10"
  },
  "toc-autonumbering": true
 },
 "nbformat": 4,
 "nbformat_minor": 5
}
